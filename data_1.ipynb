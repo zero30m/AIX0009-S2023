{
 "cells": [
  {
   "cell_type": "code",
   "execution_count": 30,
   "metadata": {},
   "outputs": [
    {
     "name": "stdout",
     "output_type": "stream",
     "text": [
      "           price  quantity  type            timestamp\n",
      "0       39017000  0.060500     0  2023-04-29 19:26:02\n",
      "1       39016000  0.086900     0  2023-04-29 19:26:02\n",
      "2       39015000  0.087700     0  2023-04-29 19:26:02\n",
      "3       39012000  0.127600     0  2023-04-29 19:26:02\n",
      "4       39011000  0.093200     0  2023-04-29 19:26:02\n",
      "...          ...       ...   ...                  ...\n",
      "718945  39083000  0.812381     1  2023-04-30 19:26:01\n",
      "718946  39084000  0.087300     1  2023-04-30 19:26:01\n",
      "718947  39086000  0.150200     1  2023-04-30 19:26:01\n",
      "718948  39087000  1.336900     1  2023-04-30 19:26:01\n",
      "718949  39088000  0.084100     1  2023-04-30 19:26:01\n",
      "\n",
      "[718950 rows x 4 columns]\n"
     ]
    }
   ],
   "source": [
    "import pandas as pd\n",
    "import numpy as np\n",
    "\n",
    "#read csv as dataframe\n",
    "df = pd.read_csv('bithumb_orderbook.csv', sep='|', header=None, names=['price', 'quantity', 'type', 'timestamp'], skiprows=1)\n",
    "print (df)\n",
    "\n",
    "df_0 = df[df['type'] == 0]\n",
    "\n",
    "df_1 = df[df['type'] == 1]\n",
    "\n",
    "df_0_sorted = df_0.sort_values(by='price', ascending=False)\n",
    "df_1_sorted = df_1.sort_values(by='price', ascending=True)\n",
    "df_merged = pd.concat([df_0_sorted, df_1_sorted], ignore_index=True)\n",
    "#print (df_merged)\n",
    "df_merged.to_csv('./all/all.csv', index=False, header= 'price   |quantity|Type|timestamp', sep='|')"
   ]
  }
 ],
 "metadata": {
  "kernelspec": {
   "display_name": "base",
   "language": "python",
   "name": "python3"
  },
  "language_info": {
   "name": "python",
   "version": "3.9.16"
  },
  "orig_nbformat": 4
 },
 "nbformat": 4,
 "nbformat_minor": 2
}
