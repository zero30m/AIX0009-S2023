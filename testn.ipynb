{
 "cells": [
  {
   "cell_type": "code",
   "execution_count": 20,
   "metadata": {},
   "outputs": [],
   "source": [
    "import requests\n",
    "import csv\n",
    "import time\n",
    "import pandas as pd\n",
    "import os\n",
    "from datetime import datetime\n",
    "\n",
    "# 设置程序运行的总时间为 15 秒（为了方便测试）\n",
    "total_running_time = 15\n",
    "\n",
    "# 获取程序开始运行的时间\n",
    "start_time = time.time()\n",
    "\n",
    "# 创建 sorted 文件夹用于保存排序后的文件\n",
    "if not os.path.exists('./sorted'):\n",
    "    os.mkdir('./sorted')\n",
    "\n",
    "# 创建 bithumb_orderbook.csv 文件并写入列名\n",
    "header = 'price   |quantity|Type|timestamp'\n",
    "with open('./all/bithumb_orderbook.csv', mode='w', newline='') as f:\n",
    "    f.write(header + '\\n')\n",
    "\n",
    "while True:\n",
    "    # 判断程序是否已经运行了指定的时间\n",
    "    if time.time() - start_time > total_running_time:\n",
    "        break\n",
    "        \n",
    "    response = requests.get('https://api.bithumb.com/public/orderbook/BTC_KRW/?count=5')\n",
    "    book = response.json()\n",
    "    data = book['data']\n",
    "    \n",
    "    # 将asks和bids的价格, asks和bids的数量作为两列，并新建Type列区分asks和bids\n",
    "    bids = pd.DataFrame(data['bids'], columns=['price', 'quantity'])\n",
    "    bids['Type'] = 0  # 添加 Type 列并设置值为 0，代表 bids\n",
    "    asks = pd.DataFrame(data['asks'], columns=['price', 'quantity'])\n",
    "    asks['Type'] = 1  # 添加 Type 列并设置值为 1，代表 asks\n",
    "    \n",
    "    # 使用 merge 合并 asks 和 bids\n",
    "    df = pd.merge(bids, asks, how='outer')\n",
    "    \n",
    "    # 创建包含当前时间的 DataFrame，并将 timestamp 值的前五位添加到时间后面\n",
    "    now = datetime.now().strftime('%Y-%m-%d %H:%M:%S')\n",
    "    time_df = pd.DataFrame({'time': [now] * len(df)})\n",
    "    \n",
    "    # 合并时间和 asks/bids 数据的 DataFrame\n",
    "    df = pd.concat([df, time_df], axis=1)\n",
    "    \n",
    "     # 格式化输出并保存到 CSV 文件中\n",
    "    df.to_csv('./all/bithumb_orderbook.csv', index=False, header=False, mode='a', sep='|')\n",
    "\n",
    "\n",
    "    time.sleep(1)\n"
   ]
  },
  {
   "cell_type": "code",
   "execution_count": null,
   "metadata": {},
   "outputs": [],
   "source": []
  }
 ],
 "metadata": {
  "kernelspec": {
   "display_name": "base",
   "language": "python",
   "name": "python3"
  },
  "language_info": {
   "codemirror_mode": {
    "name": "ipython",
    "version": 3
   },
   "file_extension": ".py",
   "mimetype": "text/x-python",
   "name": "python",
   "nbconvert_exporter": "python",
   "pygments_lexer": "ipython3",
   "version": "3.9.16"
  },
  "orig_nbformat": 4
 },
 "nbformat": 4,
 "nbformat_minor": 2
}
